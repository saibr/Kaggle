{
 "cells": [
  {
   "cell_type": "code",
   "execution_count": 1,
   "metadata": {
    "collapsed": true
   },
   "outputs": [],
   "source": [
    "import pandas as pd\n",
    "import numpy as np\n",
    "import matplotlib.pyplot as plt\n",
    "from sklearn.grid_search import GridSearchCV, RandomizedSearchCV\n",
    "from sklearn import metrics\n",
    "from sklearn.linear_model import LogisticRegression\n",
    "from sklearn.cross_validation import *\n",
    "from sklearn.metrics import *\n",
    "from sklearn.preprocessing import OneHotEncoder\n",
    "from sklearn.learning_curve import learning_curve\n",
    "import random"
   ]
  },
  {
   "cell_type": "code",
   "execution_count": 2,
   "metadata": {
    "collapsed": true
   },
   "outputs": [],
   "source": [
    "df = pd.read_csv(\"train.csv\", header=0, delimiter=\",\",quoting=10)\n",
    "dftest = pd.read_csv(\"test.csv\", header=0, delimiter=\",\",quoting=10)"
   ]
  },
  {
   "cell_type": "code",
   "execution_count": 3,
   "metadata": {
    "collapsed": true
   },
   "outputs": [],
   "source": [
    "X = df[[\"RESOURCE\", \"MGR_ID\", \"ROLE_ROLLUP_1\", \"ROLE_ROLLUP_2\", \n",
    "                  \"ROLE_DEPTNAME\",\"ROLE_TITLE\", \"ROLE_FAMILY_DESC\", \"ROLE_FAMILY\"]]\n",
    "X_test = dftest[[\"RESOURCE\", \"MGR_ID\", \"ROLE_ROLLUP_1\", \"ROLE_ROLLUP_2\", \n",
    "                  \"ROLE_DEPTNAME\",\"ROLE_TITLE\", \"ROLE_FAMILY_DESC\", \"ROLE_FAMILY\"]]\n",
    "y= df[['ACTION']]"
   ]
  },
  {
   "cell_type": "code",
   "execution_count": 4,
   "metadata": {
    "collapsed": false
   },
   "outputs": [],
   "source": [
    "# From categorical to numerical data\n",
    "enc = OneHotEncoder()\n",
    "enc.fit(np.vstack((X, X_test)))\n",
    "X=enc.transform(X)\n",
    "X_test=enc.transform(X_test)\n",
    "y = y.as_matrix()\n",
    "y = np.reshape(y,[32769L,])"
   ]
  },
  {
   "cell_type": "code",
   "execution_count": 9,
   "metadata": {
    "collapsed": true
   },
   "outputs": [],
   "source": [
    "#X_train, X_cv, y_train, y_cv = train_test_split(\n",
    "#            X, y, test_size=.20, random_state=42)"
   ]
  },
  {
   "cell_type": "code",
   "execution_count": 10,
   "metadata": {
    "collapsed": false
   },
   "outputs": [],
   "source": [
    "# Create classifier. C=1 seems the best option after testing\n",
    "clf=LogisticRegression(C=1)"
   ]
  },
  {
   "cell_type": "code",
   "execution_count": 11,
   "metadata": {
    "collapsed": true
   },
   "outputs": [],
   "source": [
    "#Parameters for classifier\n",
    "max_iter = range(50,300)\n",
    "penalty = ['l2']\n",
    "solver = ['liblinear', 'newton-cg', 'lbfgs', 'sag']\n",
    "verbose = range(0,10)"
   ]
  },
  {
   "cell_type": "code",
   "execution_count": 12,
   "metadata": {
    "collapsed": true
   },
   "outputs": [],
   "source": [
    "param_dist = dict(max_iter=max_iter,\n",
    "                 penalty=penalty, \n",
    "                 solver=solver,\n",
    "                 verbose=verbose)"
   ]
  },
  {
   "cell_type": "code",
   "execution_count": 24,
   "metadata": {
    "collapsed": false
   },
   "outputs": [
    {
     "name": "stdout",
     "output_type": "stream",
     "text": [
      "[LibLinear]"
     ]
    },
    {
     "data": {
      "text/plain": [
       "[mean: 0.86579, std: 0.01150, params: {'penalty': 'l2', 'max_iter': 122, 'verbose': 5, 'solver': 'sag'},\n",
       " mean: 0.86579, std: 0.01150, params: {'penalty': 'l2', 'max_iter': 106, 'verbose': 4, 'solver': 'newton-cg'},\n",
       " mean: 0.86579, std: 0.01150, params: {'penalty': 'l2', 'max_iter': 151, 'verbose': 9, 'solver': 'sag'},\n",
       " mean: 0.86579, std: 0.01150, params: {'penalty': 'l2', 'max_iter': 297, 'verbose': 7, 'solver': 'sag'},\n",
       " mean: 0.86587, std: 0.01149, params: {'penalty': 'l2', 'max_iter': 126, 'verbose': 6, 'solver': 'liblinear'},\n",
       " mean: 0.86587, std: 0.01149, params: {'penalty': 'l2', 'max_iter': 232, 'verbose': 6, 'solver': 'liblinear'},\n",
       " mean: 0.86587, std: 0.01149, params: {'penalty': 'l2', 'max_iter': 188, 'verbose': 0, 'solver': 'liblinear'},\n",
       " mean: 0.86582, std: 0.01150, params: {'penalty': 'l2', 'max_iter': 75, 'verbose': 2, 'solver': 'sag'},\n",
       " mean: 0.86579, std: 0.01149, params: {'penalty': 'l2', 'max_iter': 68, 'verbose': 0, 'solver': 'lbfgs'},\n",
       " mean: 0.86579, std: 0.01151, params: {'penalty': 'l2', 'max_iter': 99, 'verbose': 2, 'solver': 'lbfgs'},\n",
       " mean: 0.86579, std: 0.01150, params: {'penalty': 'l2', 'max_iter': 111, 'verbose': 9, 'solver': 'newton-cg'},\n",
       " mean: 0.86579, std: 0.01150, params: {'penalty': 'l2', 'max_iter': 116, 'verbose': 2, 'solver': 'sag'},\n",
       " mean: 0.86579, std: 0.01150, params: {'penalty': 'l2', 'max_iter': 117, 'verbose': 8, 'solver': 'sag'},\n",
       " mean: 0.86579, std: 0.01150, params: {'penalty': 'l2', 'max_iter': 144, 'verbose': 2, 'solver': 'sag'},\n",
       " mean: 0.86587, std: 0.01149, params: {'penalty': 'l2', 'max_iter': 242, 'verbose': 7, 'solver': 'liblinear'},\n",
       " mean: 0.86579, std: 0.01150, params: {'penalty': 'l2', 'max_iter': 129, 'verbose': 5, 'solver': 'lbfgs'},\n",
       " mean: 0.86579, std: 0.01150, params: {'penalty': 'l2', 'max_iter': 281, 'verbose': 0, 'solver': 'lbfgs'},\n",
       " mean: 0.86579, std: 0.01150, params: {'penalty': 'l2', 'max_iter': 259, 'verbose': 7, 'solver': 'sag'},\n",
       " mean: 0.86579, std: 0.01150, params: {'penalty': 'l2', 'max_iter': 137, 'verbose': 3, 'solver': 'lbfgs'},\n",
       " mean: 0.86587, std: 0.01149, params: {'penalty': 'l2', 'max_iter': 100, 'verbose': 4, 'solver': 'liblinear'}]"
      ]
     },
     "execution_count": 24,
     "metadata": {},
     "output_type": "execute_result"
    }
   ],
   "source": [
    "# Find optimal parameters\n",
    "rand=RandomizedSearchCV(clf, param_dist, cv=10, scoring='roc_auc', n_iter=20, \n",
    "                        random_state=5, n_jobs=-1)\n",
    "rand.fit(X, y)\n",
    "rand.grid_scores_"
   ]
  },
  {
   "cell_type": "code",
   "execution_count": 25,
   "metadata": {
    "collapsed": false
   },
   "outputs": [
    {
     "name": "stdout",
     "output_type": "stream",
     "text": [
      "0.865865079047\n",
      "{'penalty': 'l2', 'max_iter': 126, 'verbose': 6, 'solver': 'liblinear'}\n"
     ]
    }
   ],
   "source": [
    "print rand.best_score_\n",
    "print rand.best_params_"
   ]
  },
  {
   "cell_type": "code",
   "execution_count": 26,
   "metadata": {
    "collapsed": false
   },
   "outputs": [
    {
     "name": "stdout",
     "output_type": "stream",
     "text": [
      "[LibLinear]roc_auc 0.879356422143\n",
      "[LibLinear]roc_auc 0.86851479411\n",
      "[LibLinear]roc_auc 0.883425400235\n",
      "[LibLinear]roc_auc 0.862830545752\n",
      "[LibLinear]roc_auc 0.848025676436\n",
      "[LibLinear]roc_auc 0.855657852113\n",
      "[LibLinear]roc_auc 0.855032138169\n",
      "[LibLinear]roc_auc 0.858136098985\n",
      "[LibLinear]roc_auc 0.880471614194\n",
      "[LibLinear]roc_auc 0.867198680934\n",
      "best_roc_auc 0.883425400235\n"
     ]
    }
   ],
   "source": [
    "# Train and test classifier using 10- Fold cross validation on the classifier \n",
    "best_roc_auc = None\n",
    "best_fpr = None\n",
    "best_tpr = None\n",
    "skf = StratifiedKFold(y, n_folds=10)\n",
    "for train_index, cv_index in skf:\n",
    "    X_train, X_cv = X[train_index], X[cv_index]\n",
    "    y_train, y_cv = y[train_index], y[cv_index]\n",
    "    clf=LogisticRegression(C=1, \n",
    "                           penalty = 'l2', \n",
    "                           max_iter = 126, \n",
    "                           verbose = 6, \n",
    "                           solver = 'liblinear')\n",
    "    clf.fit(X_train, y_train)\n",
    "    predictions=clf.predict_proba(X_cv)[:,1]\n",
    "    fpr, tpr, thresholds = metrics.roc_curve(y_cv, predictions)\n",
    "    roc_auc = metrics.auc(fpr, tpr)\n",
    "    if roc_auc > best_roc_auc:\n",
    "        best_roc_auc = roc_auc\n",
    "        best_fpr = fpr\n",
    "        best_tpr = tpr\n",
    "    print 'roc_auc', roc_auc\n",
    "print 'best_roc_auc', best_roc_auc"
   ]
  },
  {
   "cell_type": "code",
   "execution_count": 27,
   "metadata": {
    "collapsed": false
   },
   "outputs": [],
   "source": [
    "#Predict on test set\n",
    "predictions=clf.predict_proba(X_test)[:,1]"
   ]
  },
  {
   "cell_type": "code",
   "execution_count": 28,
   "metadata": {
    "collapsed": true
   },
   "outputs": [],
   "source": [
    "#Create submissionfile\n",
    "def create_submissionfile(predictions, filename):\n",
    "    \"\"\"Save predictions in a csv file\"\"\"\n",
    "    with open(filename, 'w') as f:\n",
    "        f.write(\"id,ACTION\\n\")\n",
    "        for i, pred in enumerate(predictions):\n",
    "            f.write(\"%d,%f\\n\" % (i + 1, pred))"
   ]
  },
  {
   "cell_type": "code",
   "execution_count": 29,
   "metadata": {
    "collapsed": false
   },
   "outputs": [
    {
     "name": "stdout",
     "output_type": "stream",
     "text": [
      "Name for submission file: LogReg6\n"
     ]
    }
   ],
   "source": [
    "filename = raw_input(\"Name for submission file: \")\n",
    "create_submissionfile(predictions, filename + \".csv\")"
   ]
  },
  {
   "cell_type": "code",
   "execution_count": 21,
   "metadata": {
    "collapsed": false
   },
   "outputs": [
    {
     "name": "stdout",
     "output_type": "stream",
     "text": [
      "[LibLinear][LibLinear][LibLinear][LibLinear][LibLinear][LibLinear][LibLinear][LibLinear][LibLinear][LibLinear][LibLinear][LibLinear][LibLinear][LibLinear][LibLinear][LibLinear][LibLinear][LibLinear][LibLinear][LibLinear][LibLinear][LibLinear][LibLinear][LibLinear][LibLinear][LibLinear][LibLinear][LibLinear][LibLinear][LibLinear][LibLinear][LibLinear][LibLinear][LibLinear][LibLinear][LibLinear][LibLinear][LibLinear][LibLinear][LibLinear][LibLinear][LibLinear][LibLinear][LibLinear][LibLinear][LibLinear][LibLinear][LibLinear][LibLinear][LibLinear]"
     ]
    }
   ],
   "source": [
    "#Create Learning curve\n",
    "train_sizes, train_scores, valid_scores = learning_curve(\n",
    "LogisticRegression(C=1, penalty='l2', max_iter = 126, \n",
    "                   verbose = 6, solver = 'liblinear'), X, y, \n",
    "                   train_sizes=[200, 400, 600, 800, 1000], cv=10)"
   ]
  },
  {
   "cell_type": "code",
   "execution_count": 22,
   "metadata": {
    "collapsed": false
   },
   "outputs": [],
   "source": [
    "#ROC_AUC plot, code from sklearn\n",
    "plt.title('Receiver Operating Characteristic')\n",
    "plt.plot(best_fpr, best_tpr, 'b',\n",
    "label='AUC = %0.2f'% best_roc_auc)\n",
    "plt.legend(loc='lower right')\n",
    "plt.plot([0,1],[0,1],'r--')\n",
    "plt.xlim([-0.1,1.2])\n",
    "plt.ylim([-0.1,1.2])\n",
    "plt.ylabel('True Positive Rate')\n",
    "plt.xlabel('False Positive Rate')\n",
    "plt.show()"
   ]
  },
  {
   "cell_type": "code",
   "execution_count": 23,
   "metadata": {
    "collapsed": false
   },
   "outputs": [],
   "source": [
    "#Learning curve code from sklearn\n",
    "import numpy as np\n",
    "import matplotlib.pyplot as plt\n",
    "from sklearn import cross_validation\n",
    "from sklearn.learning_curve import learning_curve\n",
    "\n",
    "\n",
    "def plot_learning_curve(estimator, title, X, y, ylim=None, cv=None,\n",
    "                        n_jobs=-1, train_sizes=np.linspace(.1, 1.0, 5)):\n",
    "    \"\"\"\n",
    "    Generate a simple plot of the test and traning learning curve.\n",
    "\n",
    "    Parameters\n",
    "    ----------\n",
    "    estimator : object type that implements the \"fit\" and \"predict\" methods\n",
    "        An object of that type which is cloned for each validation.\n",
    "\n",
    "    title : string\n",
    "        Title for the chart.\n",
    "\n",
    "    X : array-like, shape (n_samples, n_features)\n",
    "        Training vector, where n_samples is the number of samples and\n",
    "        n_features is the number of features.\n",
    "\n",
    "    y : array-like, shape (n_samples) or (n_samples, n_features), optional\n",
    "        Target relative to X for classification or regression;\n",
    "        None for unsupervised learning.\n",
    "\n",
    "    ylim : tuple, shape (ymin, ymax), optional\n",
    "        Defines minimum and maximum yvalues plotted.\n",
    "\n",
    "    cv : integer, cross-validation generator, optional\n",
    "        If an integer is passed, it is the number of folds (defaults to 3).\n",
    "        Specific cross-validation objects can be passed, see\n",
    "        sklearn.cross_validation module for the list of possible objects\n",
    "\n",
    "    n_jobs : integer, optional\n",
    "        Number of jobs to run in parallel (default 1).\n",
    "    \"\"\"\n",
    "    plt.figure()\n",
    "    plt.title(title)\n",
    "    if ylim is not None:\n",
    "        plt.ylim(*ylim)\n",
    "    plt.xlabel(\"Training examples\")\n",
    "    plt.ylabel(\"Score\")\n",
    "    train_sizes, train_scores, test_scores = learning_curve(\n",
    "        estimator, X, y, cv=cv, n_jobs=n_jobs, train_sizes=train_sizes)\n",
    "    train_scores_mean = np.mean(train_scores, axis=1)\n",
    "    train_scores_std = np.std(train_scores, axis=1)\n",
    "    test_scores_mean = np.mean(test_scores, axis=1)\n",
    "    test_scores_std = np.std(test_scores, axis=1)\n",
    "    plt.grid()\n",
    "\n",
    "    plt.fill_between(train_sizes, train_scores_mean - train_scores_std,\n",
    "                     train_scores_mean + train_scores_std, alpha=0.1,\n",
    "                     color=\"r\")\n",
    "    plt.fill_between(train_sizes, test_scores_mean - test_scores_std,\n",
    "                     test_scores_mean + test_scores_std, alpha=0.1, color=\"g\")\n",
    "    plt.plot(train_sizes, train_scores_mean, 'o-', color=\"r\",\n",
    "             label=\"Training score\")\n",
    "    plt.plot(train_sizes, test_scores_mean, 'o-', color=\"g\",\n",
    "             label=\"Cross-validation score\")\n",
    "\n",
    "    plt.legend(loc=\"best\")\n",
    "    return plt\n",
    "\n",
    "\n",
    "title = \"Learning Curves (Logistic Regression)\"\n",
    "# Cross validation with 100 iterations to get smoother mean test and train\n",
    "# score curves, each time with 20% data randomly selected as a validation set.\n",
    "cv = cross_validation.ShuffleSplit(X.shape[0], n_iter=100,\n",
    "                                   test_size=0.2, random_state=0)\n",
    "\n",
    "estimator = LogisticRegression(C=1, penalty='l2', max_iter = 183, \n",
    "                               verbose = 7, solver = 'liblinear')\n",
    "plot_learning_curve(estimator, title, X, y, ylim=(0.7, 1.01), cv=cv, n_jobs=4)\n",
    "\n",
    "plt.show()"
   ]
  },
  {
   "cell_type": "code",
   "execution_count": null,
   "metadata": {
    "collapsed": true
   },
   "outputs": [],
   "source": []
  }
 ],
 "metadata": {
  "kernelspec": {
   "display_name": "Python 2",
   "language": "python",
   "name": "python2"
  },
  "language_info": {
   "codemirror_mode": {
    "name": "ipython",
    "version": 2
   },
   "file_extension": ".py",
   "mimetype": "text/x-python",
   "name": "python",
   "nbconvert_exporter": "python",
   "pygments_lexer": "ipython2",
   "version": "2.7.12"
  }
 },
 "nbformat": 4,
 "nbformat_minor": 0
}
