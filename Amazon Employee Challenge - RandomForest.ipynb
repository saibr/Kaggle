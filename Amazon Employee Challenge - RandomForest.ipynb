{
 "cells": [
  {
   "cell_type": "code",
   "execution_count": 1,
   "metadata": {
    "collapsed": true
   },
   "outputs": [],
   "source": [
    "import pandas as pd\n",
    "import numpy as np\n",
    "from sklearn.grid_search import GridSearchCV, RandomizedSearchCV\n",
    "from sklearn import metrics\n",
    "from sklearn.ensemble import RandomForestClassifier\n",
    "from sklearn.cross_validation import *\n",
    "from sklearn.metrics import *\n",
    "import random"
   ]
  },
  {
   "cell_type": "code",
   "execution_count": 2,
   "metadata": {
    "collapsed": true
   },
   "outputs": [],
   "source": [
    "df = pd.read_csv(\"train.csv\", header=0, delimiter=\",\",quoting=10)\n",
    "dftest = pd.read_csv(\"test.csv\", header=0, delimiter=\",\",quoting=10)"
   ]
  },
  {
   "cell_type": "code",
   "execution_count": 3,
   "metadata": {
    "collapsed": true
   },
   "outputs": [],
   "source": [
    "X = df[[\"RESOURCE\", \"MGR_ID\", \"ROLE_ROLLUP_1\", \"ROLE_ROLLUP_2\", \n",
    "                  \"ROLE_DEPTNAME\",\"ROLE_TITLE\", \"ROLE_FAMILY_DESC\", \"ROLE_FAMILY\"]]\n",
    "X_test = dftest[[\"RESOURCE\", \"MGR_ID\", \"ROLE_ROLLUP_1\", \"ROLE_ROLLUP_2\", \n",
    "                  \"ROLE_DEPTNAME\",\"ROLE_TITLE\", \"ROLE_FAMILY_DESC\", \"ROLE_FAMILY\"]]\n",
    "y= df[['ACTION']]\n",
    "y = y.as_matrix()\n",
    "y = np.reshape(y,[32769L,])"
   ]
  },
  {
   "cell_type": "code",
   "execution_count": 4,
   "metadata": {
    "collapsed": false
   },
   "outputs": [],
   "source": [
    "#Create classifier\n",
    "clf=RandomForestClassifier()"
   ]
  },
  {
   "cell_type": "code",
   "execution_count": 5,
   "metadata": {
    "collapsed": true
   },
   "outputs": [],
   "source": [
    "#Parameters for clf\n",
    "estimators = range(200,600)\n",
    "min_split = range(2,21)\n",
    "warm = [True, False]\n",
    "min_leaf = range(1,11)\n",
    "crit = ['entropy', 'gini']\n",
    "boot = [True, False] "
   ]
  },
  {
   "cell_type": "code",
   "execution_count": 6,
   "metadata": {
    "collapsed": false
   },
   "outputs": [],
   "source": [
    "param_dist = dict(n_estimators=estimators, \n",
    "                  min_samples_split=min_split,\n",
    "                 warm_start = warm, \n",
    "                 min_samples_leaf=min_leaf,\n",
    "                 criterion=crit,\n",
    "                 bootstrap=boot)"
   ]
  },
  {
   "cell_type": "code",
   "execution_count": 7,
   "metadata": {
    "collapsed": false
   },
   "outputs": [
    {
     "data": {
      "text/plain": [
       "[mean: 0.85592, std: 0.01389, params: {'warm_start': False, 'bootstrap': True, 'min_samples_leaf': 10, 'n_estimators': 313, 'criterion': 'gini', 'min_samples_split': 13},\n",
       " mean: 0.86894, std: 0.01205, params: {'warm_start': True, 'bootstrap': True, 'min_samples_leaf': 2, 'n_estimators': 319, 'criterion': 'entropy', 'min_samples_split': 6},\n",
       " mean: 0.86602, std: 0.01186, params: {'warm_start': False, 'bootstrap': False, 'min_samples_leaf': 6, 'n_estimators': 575, 'criterion': 'gini', 'min_samples_split': 17},\n",
       " mean: 0.85929, std: 0.01249, params: {'warm_start': False, 'bootstrap': True, 'min_samples_leaf': 9, 'n_estimators': 502, 'criterion': 'entropy', 'min_samples_split': 5},\n",
       " mean: 0.86551, std: 0.01233, params: {'warm_start': True, 'bootstrap': False, 'min_samples_leaf': 7, 'n_estimators': 444, 'criterion': 'gini', 'min_samples_split': 15},\n",
       " mean: 0.86944, std: 0.01439, params: {'warm_start': True, 'bootstrap': True, 'min_samples_leaf': 3, 'n_estimators': 375, 'criterion': 'entropy', 'min_samples_split': 7},\n",
       " mean: 0.86625, std: 0.01289, params: {'warm_start': False, 'bootstrap': True, 'min_samples_leaf': 1, 'n_estimators': 549, 'criterion': 'gini', 'min_samples_split': 19},\n",
       " mean: 0.86484, std: 0.01205, params: {'warm_start': True, 'bootstrap': False, 'min_samples_leaf': 8, 'n_estimators': 256, 'criterion': 'gini', 'min_samples_split': 19},\n",
       " mean: 0.86653, std: 0.01259, params: {'warm_start': True, 'bootstrap': False, 'min_samples_leaf': 1, 'n_estimators': 535, 'criterion': 'gini', 'min_samples_split': 8},\n",
       " mean: 0.85831, std: 0.01243, params: {'warm_start': True, 'bootstrap': True, 'min_samples_leaf': 9, 'n_estimators': 560, 'criterion': 'gini', 'min_samples_split': 12},\n",
       " mean: 0.86548, std: 0.01206, params: {'warm_start': True, 'bootstrap': False, 'min_samples_leaf': 8, 'n_estimators': 446, 'criterion': 'entropy', 'min_samples_split': 16},\n",
       " mean: 0.86523, std: 0.01193, params: {'warm_start': False, 'bootstrap': True, 'min_samples_leaf': 3, 'n_estimators': 443, 'criterion': 'gini', 'min_samples_split': 14},\n",
       " mean: 0.86362, std: 0.01307, params: {'warm_start': False, 'bootstrap': False, 'min_samples_leaf': 9, 'n_estimators': 501, 'criterion': 'gini', 'min_samples_split': 14},\n",
       " mean: 0.87047, std: 0.01301, params: {'warm_start': False, 'bootstrap': False, 'min_samples_leaf': 1, 'n_estimators': 574, 'criterion': 'gini', 'min_samples_split': 15},\n",
       " mean: 0.85415, std: 0.01344, params: {'warm_start': False, 'bootstrap': False, 'min_samples_leaf': 1, 'n_estimators': 221, 'criterion': 'gini', 'min_samples_split': 5},\n",
       " mean: 0.86187, std: 0.01292, params: {'warm_start': False, 'bootstrap': True, 'min_samples_leaf': 6, 'n_estimators': 239, 'criterion': 'gini', 'min_samples_split': 8},\n",
       " mean: 0.85851, std: 0.01221, params: {'warm_start': True, 'bootstrap': True, 'min_samples_leaf': 8, 'n_estimators': 231, 'criterion': 'gini', 'min_samples_split': 6},\n",
       " mean: 0.86306, std: 0.01277, params: {'warm_start': True, 'bootstrap': True, 'min_samples_leaf': 6, 'n_estimators': 419, 'criterion': 'gini', 'min_samples_split': 2},\n",
       " mean: 0.86652, std: 0.01247, params: {'warm_start': False, 'bootstrap': False, 'min_samples_leaf': 6, 'n_estimators': 348, 'criterion': 'gini', 'min_samples_split': 12},\n",
       " mean: 0.86926, std: 0.01275, params: {'warm_start': False, 'bootstrap': True, 'min_samples_leaf': 2, 'n_estimators': 412, 'criterion': 'entropy', 'min_samples_split': 3}]"
      ]
     },
     "execution_count": 7,
     "metadata": {},
     "output_type": "execute_result"
    }
   ],
   "source": [
    "#Find best parameters\n",
    "rand=RandomizedSearchCV(clf, param_dist, cv=10, scoring='roc_auc', n_iter=20, \n",
    "                        random_state=5, n_jobs=-1)\n",
    "rand.fit(X,y)\n",
    "rand.grid_scores_"
   ]
  },
  {
   "cell_type": "code",
   "execution_count": 8,
   "metadata": {
    "collapsed": false
   },
   "outputs": [
    {
     "name": "stdout",
     "output_type": "stream",
     "text": [
      "0.870465255137\n",
      "{'warm_start': False, 'bootstrap': False, 'min_samples_leaf': 1, 'n_estimators': 574, 'criterion': 'gini', 'min_samples_split': 15}\n"
     ]
    }
   ],
   "source": [
    "print rand.best_score_\n",
    "print rand.best_params_"
   ]
  },
  {
   "cell_type": "code",
   "execution_count": 14,
   "metadata": {
    "collapsed": false
   },
   "outputs": [
    {
     "data": {
      "text/plain": [
       "RandomForestClassifier(bootstrap=False, class_weight=None, criterion='gini',\n",
       "            max_depth=None, max_features='auto', max_leaf_nodes=None,\n",
       "            min_samples_leaf=1, min_samples_split=15,\n",
       "            min_weight_fraction_leaf=0.0, n_estimators=574, n_jobs=1,\n",
       "            oob_score=False, random_state=None, verbose=0,\n",
       "            warm_start=False)"
      ]
     },
     "execution_count": 14,
     "metadata": {},
     "output_type": "execute_result"
    }
   ],
   "source": [
    "# Create and train classifier\n",
    "clf=RandomForestClassifier(warm_start = False, bootstrap = False,\n",
    "                           min_samples_leaf = 1, n_estimators = 574,\n",
    "                           criterion = 'gini', min_samples_split = 15)\n",
    "clf.fit(X,y)"
   ]
  },
  {
   "cell_type": "code",
   "execution_count": 15,
   "metadata": {
    "collapsed": false
   },
   "outputs": [],
   "source": [
    "#Predict on test set\n",
    "predictions=clf.predict_proba(X_test)"
   ]
  },
  {
   "cell_type": "code",
   "execution_count": 16,
   "metadata": {
    "collapsed": true
   },
   "outputs": [],
   "source": [
    "#Create a submissionfile\n",
    "def create_submissionfile(predictions, filename):\n",
    "    \"\"\"Given a vector of predictions, save results in CSV format.\"\"\"\n",
    "    with open(filename, 'w') as f:\n",
    "        f.write(\"id,ACTION\\n\")\n",
    "        for i, pred in enumerate(predictions):\n",
    "            f.write(\"%d,%f\\n\" % (i + 1, pred))"
   ]
  },
  {
   "cell_type": "code",
   "execution_count": 17,
   "metadata": {
    "collapsed": false
   },
   "outputs": [
    {
     "name": "stdout",
     "output_type": "stream",
     "text": [
      "Enter name for submission file: RF3\n"
     ]
    }
   ],
   "source": [
    "predictions=predictions[:,1]\n",
    "filename = raw_input(\"Enter name for submission file: \")\n",
    "create_submissionfile(predictions, filename + \".csv\")"
   ]
  }
 ],
 "metadata": {
  "kernelspec": {
   "display_name": "Python 2",
   "language": "python",
   "name": "python2"
  },
  "language_info": {
   "codemirror_mode": {
    "name": "ipython",
    "version": 2
   },
   "file_extension": ".py",
   "mimetype": "text/x-python",
   "name": "python",
   "nbconvert_exporter": "python",
   "pygments_lexer": "ipython2",
   "version": "2.7.12"
  }
 },
 "nbformat": 4,
 "nbformat_minor": 0
}
